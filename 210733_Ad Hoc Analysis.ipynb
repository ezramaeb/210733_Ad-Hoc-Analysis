{
 "cells": [
  {
   "cell_type": "code",
   "execution_count": 23,
   "id": "f6c18306-6df8-4417-97eb-d95acd5cd6da",
   "metadata": {},
   "outputs": [],
   "source": [
    "import pandas as pd\n",
    "import numpy as np\n",
    "import json \n",
    "import matplotlib.pyplot as plt"
   ]
  },
  {
   "cell_type": "markdown",
   "id": "6818aa58-5b5e-4a67-a14c-0f83aed9ebfe",
   "metadata": {},
   "source": [
    "## General Pivot Table "
   ]
  },
  {
   "cell_type": "code",
   "execution_count": 24,
   "id": "faebdf61-e269-4d05-901c-7e0a613e8586",
   "metadata": {},
   "outputs": [
    {
     "data": {
      "text/html": [
       "<div>\n",
       "<style scoped>\n",
       "    .dataframe tbody tr th:only-of-type {\n",
       "        vertical-align: middle;\n",
       "    }\n",
       "\n",
       "    .dataframe tbody tr th {\n",
       "        vertical-align: top;\n",
       "    }\n",
       "\n",
       "    .dataframe thead th {\n",
       "        text-align: right;\n",
       "    }\n",
       "</style>\n",
       "<table border=\"1\" class=\"dataframe\">\n",
       "  <thead>\n",
       "    <tr style=\"text-align: right;\">\n",
       "      <th></th>\n",
       "      <th>address</th>\n",
       "      <th>birthdate</th>\n",
       "      <th>mail</th>\n",
       "      <th>name</th>\n",
       "      <th>sex</th>\n",
       "      <th>username</th>\n",
       "      <th>transaction_items</th>\n",
       "      <th>transaction_value</th>\n",
       "      <th>transaction_date</th>\n",
       "    </tr>\n",
       "  </thead>\n",
       "  <tbody>\n",
       "    <tr>\n",
       "      <th>0</th>\n",
       "      <td>USNS Wagner\\nFPO AE 00917</td>\n",
       "      <td>1926/03/11</td>\n",
       "      <td>watsonbrenda@gmail.com</td>\n",
       "      <td>Jennifer Campbell</td>\n",
       "      <td>F</td>\n",
       "      <td>veronicawells</td>\n",
       "      <td>Exotic Extras,Beef Chicharon,(x4)</td>\n",
       "      <td>5196</td>\n",
       "      <td>2022/01/12</td>\n",
       "    </tr>\n",
       "    <tr>\n",
       "      <th>1</th>\n",
       "      <td>USCGC Benson\\nFPO AP 48794</td>\n",
       "      <td>2016/07/08</td>\n",
       "      <td>moorelisa@gmail.com</td>\n",
       "      <td>Melissa Kim</td>\n",
       "      <td>F</td>\n",
       "      <td>cgilbert</td>\n",
       "      <td>Exotic Extras,Beef Chicharon,(x3);HealthyKid 3...</td>\n",
       "      <td>12056</td>\n",
       "      <td>2022/01/12</td>\n",
       "    </tr>\n",
       "    <tr>\n",
       "      <th>2</th>\n",
       "      <td>USCGC Benson\\nFPO AP 48794</td>\n",
       "      <td>2016/07/08</td>\n",
       "      <td>moorelisa@gmail.com</td>\n",
       "      <td>Melissa Kim</td>\n",
       "      <td>F</td>\n",
       "      <td>cgilbert</td>\n",
       "      <td>HealthyKid 3+,Gummy Vitamins,(x3);HealthyKid 3...</td>\n",
       "      <td>5500</td>\n",
       "      <td>2022/01/08</td>\n",
       "    </tr>\n",
       "    <tr>\n",
       "      <th>3</th>\n",
       "      <td>USCGC Benson\\nFPO AP 48794</td>\n",
       "      <td>2016/07/08</td>\n",
       "      <td>moorelisa@gmail.com</td>\n",
       "      <td>Melissa Kim</td>\n",
       "      <td>F</td>\n",
       "      <td>cgilbert</td>\n",
       "      <td>HealthyKid 3+,Yummy Vegetables,(x1)</td>\n",
       "      <td>500</td>\n",
       "      <td>2022/01/10</td>\n",
       "    </tr>\n",
       "    <tr>\n",
       "      <th>4</th>\n",
       "      <td>33911 Hansen Loaf\\nWest Sandra, ND 54188</td>\n",
       "      <td>1949/09/27</td>\n",
       "      <td>michael78@yahoo.com</td>\n",
       "      <td>Kristen Cooper</td>\n",
       "      <td>F</td>\n",
       "      <td>qhernandez</td>\n",
       "      <td>Candy City,Orange Beans,(x3);Candy City,Gummy ...</td>\n",
       "      <td>2697</td>\n",
       "      <td>2022/01/24</td>\n",
       "    </tr>\n",
       "    <tr>\n",
       "      <th>...</th>\n",
       "      <td>...</td>\n",
       "      <td>...</td>\n",
       "      <td>...</td>\n",
       "      <td>...</td>\n",
       "      <td>...</td>\n",
       "      <td>...</td>\n",
       "      <td>...</td>\n",
       "      <td>...</td>\n",
       "      <td>...</td>\n",
       "    </tr>\n",
       "    <tr>\n",
       "      <th>83031</th>\n",
       "      <td>96081 Harrison Brooks\\nJenniferbury, MA 02124</td>\n",
       "      <td>2019/10/26</td>\n",
       "      <td>christina55@hotmail.com</td>\n",
       "      <td>Tammy Byrd</td>\n",
       "      <td>F</td>\n",
       "      <td>kmcconnell</td>\n",
       "      <td>Exotic Extras,Kimchi and Seaweed,(x2);HealthyK...</td>\n",
       "      <td>3588</td>\n",
       "      <td>2022/06/05</td>\n",
       "    </tr>\n",
       "    <tr>\n",
       "      <th>83032</th>\n",
       "      <td>428 Kristopher Curve Apt. 206\\nMcculloughville...</td>\n",
       "      <td>1913/11/04</td>\n",
       "      <td>melvinschmidt@hotmail.com</td>\n",
       "      <td>Donald Andersen</td>\n",
       "      <td>M</td>\n",
       "      <td>llowe</td>\n",
       "      <td>HealthyKid 3+,Yummy Vegetables,(x1);Exotic Ext...</td>\n",
       "      <td>2095</td>\n",
       "      <td>2022/06/12</td>\n",
       "    </tr>\n",
       "    <tr>\n",
       "      <th>83033</th>\n",
       "      <td>428 Kristopher Curve Apt. 206\\nMcculloughville...</td>\n",
       "      <td>1913/11/04</td>\n",
       "      <td>melvinschmidt@hotmail.com</td>\n",
       "      <td>Donald Andersen</td>\n",
       "      <td>M</td>\n",
       "      <td>llowe</td>\n",
       "      <td>Candy City,Orange Beans,(x4);Candy City,Gummy ...</td>\n",
       "      <td>3396</td>\n",
       "      <td>2022/06/15</td>\n",
       "    </tr>\n",
       "    <tr>\n",
       "      <th>83034</th>\n",
       "      <td>428 Kristopher Curve Apt. 206\\nMcculloughville...</td>\n",
       "      <td>1913/11/04</td>\n",
       "      <td>melvinschmidt@hotmail.com</td>\n",
       "      <td>Donald Andersen</td>\n",
       "      <td>M</td>\n",
       "      <td>llowe</td>\n",
       "      <td>HealthyKid 3+,Nutrional Milk,(x2);Candy City,G...</td>\n",
       "      <td>4280</td>\n",
       "      <td>2022/06/09</td>\n",
       "    </tr>\n",
       "    <tr>\n",
       "      <th>83035</th>\n",
       "      <td>PSC 1089, Box 3720\\nAPO AE 08973</td>\n",
       "      <td>2012/04/30</td>\n",
       "      <td>xjones@hotmail.com</td>\n",
       "      <td>Stephanie Russell</td>\n",
       "      <td>F</td>\n",
       "      <td>cmcdowell</td>\n",
       "      <td>HealthyKid 3+,Nutrional Milk,(x1);Candy City,G...</td>\n",
       "      <td>2639</td>\n",
       "      <td>2022/06/03</td>\n",
       "    </tr>\n",
       "  </tbody>\n",
       "</table>\n",
       "<p>83036 rows × 9 columns</p>\n",
       "</div>"
      ],
      "text/plain": [
       "                                                 address   birthdate  \\\n",
       "0                              USNS Wagner\\nFPO AE 00917  1926/03/11   \n",
       "1                             USCGC Benson\\nFPO AP 48794  2016/07/08   \n",
       "2                             USCGC Benson\\nFPO AP 48794  2016/07/08   \n",
       "3                             USCGC Benson\\nFPO AP 48794  2016/07/08   \n",
       "4               33911 Hansen Loaf\\nWest Sandra, ND 54188  1949/09/27   \n",
       "...                                                  ...         ...   \n",
       "83031      96081 Harrison Brooks\\nJenniferbury, MA 02124  2019/10/26   \n",
       "83032  428 Kristopher Curve Apt. 206\\nMcculloughville...  1913/11/04   \n",
       "83033  428 Kristopher Curve Apt. 206\\nMcculloughville...  1913/11/04   \n",
       "83034  428 Kristopher Curve Apt. 206\\nMcculloughville...  1913/11/04   \n",
       "83035                   PSC 1089, Box 3720\\nAPO AE 08973  2012/04/30   \n",
       "\n",
       "                            mail               name sex       username  \\\n",
       "0         watsonbrenda@gmail.com  Jennifer Campbell   F  veronicawells   \n",
       "1            moorelisa@gmail.com        Melissa Kim   F       cgilbert   \n",
       "2            moorelisa@gmail.com        Melissa Kim   F       cgilbert   \n",
       "3            moorelisa@gmail.com        Melissa Kim   F       cgilbert   \n",
       "4            michael78@yahoo.com     Kristen Cooper   F     qhernandez   \n",
       "...                          ...                ...  ..            ...   \n",
       "83031    christina55@hotmail.com         Tammy Byrd   F     kmcconnell   \n",
       "83032  melvinschmidt@hotmail.com    Donald Andersen   M          llowe   \n",
       "83033  melvinschmidt@hotmail.com    Donald Andersen   M          llowe   \n",
       "83034  melvinschmidt@hotmail.com    Donald Andersen   M          llowe   \n",
       "83035         xjones@hotmail.com  Stephanie Russell   F      cmcdowell   \n",
       "\n",
       "                                       transaction_items  transaction_value  \\\n",
       "0                      Exotic Extras,Beef Chicharon,(x4)               5196   \n",
       "1      Exotic Extras,Beef Chicharon,(x3);HealthyKid 3...              12056   \n",
       "2      HealthyKid 3+,Gummy Vitamins,(x3);HealthyKid 3...               5500   \n",
       "3                    HealthyKid 3+,Yummy Vegetables,(x1)                500   \n",
       "4      Candy City,Orange Beans,(x3);Candy City,Gummy ...               2697   \n",
       "...                                                  ...                ...   \n",
       "83031  Exotic Extras,Kimchi and Seaweed,(x2);HealthyK...               3588   \n",
       "83032  HealthyKid 3+,Yummy Vegetables,(x1);Exotic Ext...               2095   \n",
       "83033  Candy City,Orange Beans,(x4);Candy City,Gummy ...               3396   \n",
       "83034  HealthyKid 3+,Nutrional Milk,(x2);Candy City,G...               4280   \n",
       "83035  HealthyKid 3+,Nutrional Milk,(x1);Candy City,G...               2639   \n",
       "\n",
       "      transaction_date  \n",
       "0           2022/01/12  \n",
       "1           2022/01/12  \n",
       "2           2022/01/08  \n",
       "3           2022/01/10  \n",
       "4           2022/01/24  \n",
       "...                ...  \n",
       "83031       2022/06/05  \n",
       "83032       2022/06/12  \n",
       "83033       2022/06/15  \n",
       "83034       2022/06/09  \n",
       "83035       2022/06/03  \n",
       "\n",
       "[83036 rows x 9 columns]"
      ]
     },
     "execution_count": 24,
     "metadata": {},
     "output_type": "execute_result"
    }
   ],
   "source": [
    "# Generate the pivot table showing ALL data from the DataFrame\n",
    "\n",
    "file = \"./transaction-data-adhoc-analysis.json\"\n",
    "df = pd.read_json(file)\n",
    "\n",
    "df"
   ]
  },
  {
   "cell_type": "markdown",
   "id": "7c300fe3-9127-41c3-9acf-c71464d27963",
   "metadata": {},
   "source": [
    "# I. Breakdown of the count of each item sold per month"
   ]
  },
  {
   "cell_type": "markdown",
   "id": "35056cd4-f8e7-4732-bbbd-da20595f543f",
   "metadata": {},
   "source": [
    "## DataFrame I: Each Item Sold per Month"
   ]
  },
  {
   "cell_type": "code",
   "execution_count": 25,
   "id": "43916a4c-1af3-4a6a-8b62-1b8a197dcf97",
   "metadata": {},
   "outputs": [
    {
     "data": {
      "text/html": [
       "<div>\n",
       "<style scoped>\n",
       "    .dataframe tbody tr th:only-of-type {\n",
       "        vertical-align: middle;\n",
       "    }\n",
       "\n",
       "    .dataframe tbody tr th {\n",
       "        vertical-align: top;\n",
       "    }\n",
       "\n",
       "    .dataframe thead th {\n",
       "        text-align: right;\n",
       "    }\n",
       "</style>\n",
       "<table border=\"1\" class=\"dataframe\">\n",
       "  <thead>\n",
       "    <tr style=\"text-align: right;\">\n",
       "      <th></th>\n",
       "      <th>January</th>\n",
       "      <th>February</th>\n",
       "      <th>March</th>\n",
       "      <th>April</th>\n",
       "      <th>May</th>\n",
       "      <th>June</th>\n",
       "      <th>Total Items</th>\n",
       "    </tr>\n",
       "    <tr>\n",
       "      <th>Items</th>\n",
       "      <th></th>\n",
       "      <th></th>\n",
       "      <th></th>\n",
       "      <th></th>\n",
       "      <th></th>\n",
       "      <th></th>\n",
       "      <th></th>\n",
       "    </tr>\n",
       "  </thead>\n",
       "  <tbody>\n",
       "    <tr>\n",
       "      <th>Beef Chicharon</th>\n",
       "      <td>9665</td>\n",
       "      <td>10001</td>\n",
       "      <td>9816</td>\n",
       "      <td>9890</td>\n",
       "      <td>10028</td>\n",
       "      <td>9902</td>\n",
       "      <td>59302</td>\n",
       "    </tr>\n",
       "    <tr>\n",
       "      <th>Gummy Vitamins</th>\n",
       "      <td>9681</td>\n",
       "      <td>9980</td>\n",
       "      <td>10145</td>\n",
       "      <td>9842</td>\n",
       "      <td>9948</td>\n",
       "      <td>9980</td>\n",
       "      <td>59576</td>\n",
       "    </tr>\n",
       "    <tr>\n",
       "      <th>Gummy Worms</th>\n",
       "      <td>9559</td>\n",
       "      <td>9996</td>\n",
       "      <td>9986</td>\n",
       "      <td>10043</td>\n",
       "      <td>9801</td>\n",
       "      <td>9934</td>\n",
       "      <td>59319</td>\n",
       "    </tr>\n",
       "    <tr>\n",
       "      <th>Kimchi and Seaweed</th>\n",
       "      <td>9676</td>\n",
       "      <td>9949</td>\n",
       "      <td>9967</td>\n",
       "      <td>9921</td>\n",
       "      <td>9773</td>\n",
       "      <td>10104</td>\n",
       "      <td>59390</td>\n",
       "    </tr>\n",
       "    <tr>\n",
       "      <th>Nutrional Milk</th>\n",
       "      <td>9727</td>\n",
       "      <td>9691</td>\n",
       "      <td>9876</td>\n",
       "      <td>9786</td>\n",
       "      <td>9881</td>\n",
       "      <td>9767</td>\n",
       "      <td>58728</td>\n",
       "    </tr>\n",
       "    <tr>\n",
       "      <th>Orange Beans</th>\n",
       "      <td>9774</td>\n",
       "      <td>10037</td>\n",
       "      <td>9611</td>\n",
       "      <td>9914</td>\n",
       "      <td>9964</td>\n",
       "      <td>10106</td>\n",
       "      <td>59406</td>\n",
       "    </tr>\n",
       "    <tr>\n",
       "      <th>Yummy Vegetables</th>\n",
       "      <td>9959</td>\n",
       "      <td>10256</td>\n",
       "      <td>9896</td>\n",
       "      <td>9861</td>\n",
       "      <td>9735</td>\n",
       "      <td>9722</td>\n",
       "      <td>59429</td>\n",
       "    </tr>\n",
       "  </tbody>\n",
       "</table>\n",
       "</div>"
      ],
      "text/plain": [
       "                    January  February  March  April    May   June  Total Items\n",
       "Items                                                                         \n",
       "Beef Chicharon         9665     10001   9816   9890  10028   9902        59302\n",
       "Gummy Vitamins         9681      9980  10145   9842   9948   9980        59576\n",
       "Gummy Worms            9559      9996   9986  10043   9801   9934        59319\n",
       "Kimchi and Seaweed     9676      9949   9967   9921   9773  10104        59390\n",
       "Nutrional Milk         9727      9691   9876   9786   9881   9767        58728\n",
       "Orange Beans           9774     10037   9611   9914   9964  10106        59406\n",
       "Yummy Vegetables       9959     10256   9896   9861   9735   9722        59429"
      ]
     },
     "execution_count": 25,
     "metadata": {},
     "output_type": "execute_result"
    }
   ],
   "source": [
    "# Dictionary for the months of the General Pivot Table\n",
    "months = {'/01/':'January',\n",
    "         '/02/':'February',\n",
    "         '/03/':'March',\n",
    "         '/04/':'April',\n",
    "         '/05/':'May',\n",
    "         '/06/':'June'}\n",
    "\n",
    "# Makes a new column for months into the dataframe\n",
    "for i in months:\n",
    "    df.loc[df[\"transaction_date\"].str.contains(i),\"month\"] = months[i]\n",
    "\n",
    "def products_receipt(month):\n",
    "    per_month = df[df[\"month\"]==month]\n",
    "\n",
    "    per_month['transaction_items']\n",
    "    new_list = []\n",
    "    for index, row in per_month.iterrows():\n",
    "        x = (row[\"transaction_items\"].split(\";\"))\n",
    "        for i in range(0,len(x)):\n",
    "            new_list.append(x[i].split(','))\n",
    "\n",
    "    # Places the brand, items, and quantity into a new dataframe \n",
    "    item_df = pd.DataFrame(new_list,columns=['brand','Items','quantity'])\n",
    "    item_df['quantity'] = item_df['quantity'].str.extract('(\\d+)',expand=False).astype(int)\n",
    "\n",
    "    #Classifies the items and adds them \n",
    "    monthly_receipt=item_df.groupby('Items').sum().squeeze()\n",
    "    return monthly_receipt\n",
    "\n",
    "#Creates the dataframe considering the dictionary\n",
    "products_sold_df = pd.DataFrame({i:products_receipt(i) for i in list(months.values())})\n",
    "\n",
    "# Makes a new column for Total Items (sum of each item from January to June)\n",
    "products_sold_df['Total Items'] = products_sold_df['January'] + products_sold_df['February'] + products_sold_df['March'] + products_sold_df['April'] + products_sold_df['May'] + products_sold_df['June'] \n",
    "\n",
    "products_sold_df"
   ]
  },
  {
   "cell_type": "markdown",
   "id": "12973665-1408-4451-b6c7-55284a5fb33a",
   "metadata": {},
   "source": [
    "### Bar Graph for DataFrame I: Each Item Sold per Month"
   ]
  },
  {
   "cell_type": "code",
   "execution_count": 26,
   "id": "551af476-7d24-42a4-a339-8d567cefa1d7",
   "metadata": {},
   "outputs": [
    {
     "data": {
      "image/png": "[encoded data removed]",
      "text/plain": [
       "<Figure size 1080x720 with 1 Axes>"
      ]
     },
     "metadata": {
      "needs_background": "light"
     },
     "output_type": "display_data"
    }
   ],
   "source": [
    "new_sold_df = products_sold_df.transpose()\n",
    "new_sold_df.index.name = 'Month'\n",
    "new_sold_df.reset_index(level=None, drop=False, inplace=True, col_level=0, col_fill='')\n",
    "\n",
    "new_sold_df=new_sold_df[['Month','Beef Chicharon','Gummy Vitamins','Gummy Worms','Kimchi and Seaweed','Nutrional Milk','Orange Beans','Yummy Vegetables']].iloc[:6]\n",
    "\n",
    "new_sold_df.plot(x='Month',\n",
    "        kind='bar',\n",
    "        stacked=False,\n",
    "        title='Quantity of Each Item Sold Per Month',\n",
    "           figsize=(15,10),\n",
    "           color = ['#FF9AA2', '#FFB7B2', '#FFDAC1','#E2F0CB', '#B5EAD7', '#C7CEEA', '#FFD1DC']);"
   ]
  },
  {
   "cell_type": "markdown",
   "id": "3fa65f1b-b751-4f3a-8208-5dbb6ac43921",
   "metadata": {},
   "source": [
    "### Pie Graph for DataFrame I: Each Item Sold from January to June"
   ]
  },
  {
   "cell_type": "code",
   "execution_count": 27,
   "id": "09006edc-74e5-408e-894d-30448b2e4555",
   "metadata": {},
   "outputs": [
    {
     "data": {
      "image/png": "[encoded data removed]",
      "text/plain": [
       "<Figure size 864x576 with 1 Axes>"
      ]
     },
     "metadata": {},
     "output_type": "display_data"
    }
   ],
   "source": [
    "products = products_sold_df.index\n",
    "values = products_sold_df['Total Items']\n",
    "\n",
    "plt.figure(figsize=(12,8))\n",
    "plt.pie(values, labels=products, autopct='%1.1f%%',labeldistance=1.15,\n",
    "        colors = ['#FF9AA2', '#FFB7B2', '#FFDAC1','#E2F0CB', '#B5EAD7', '#C7CEEA', '#FFD1DC']);\n",
    "plt.title('Total Items Sold',fontsize=15)\n",
    "plt.show();"
   ]
  },
  {
   "cell_type": "code",
   "execution_count": 28,
   "id": "eaa341a8-4ce2-4421-ab67-c48e8155ffe4",
   "metadata": {},
   "outputs": [
    {
     "data": {
      "application/vnd.plotly.v1+json": {
       "config": {
        "plotlyServerURL": "https://plot.ly"
       },
       "data": [
        {
         "hovertemplate": "Items=Beef Chicharon<br>Month=%{x}<br>value=%{y}<extra></extra>",
         "legendgroup": "Beef Chicharon",
         "line": {
          "color": "#636efa",
          "dash": "solid"
         },
         "marker": {
          "symbol": "circle"
         },
         "mode": "lines",
         "name": "Beef Chicharon",
         "orientation": "v",
         "showlegend": true,
         "type": "scatter",
         "x": [
          "January",
          "February",
          "March",
          "April",
          "May",
          "June"
         ],
         "xaxis": "x",
         "y": [
          9665,
          10001,
          9816,
          9890,
          10028,
          9902
         ],
         "yaxis": "y"
        },
        {
         "hovertemplate": "Items=Gummy Vitamins<br>Month=%{x}<br>value=%{y}<extra></extra>",
         "legendgroup": "Gummy Vitamins",
         "line": {
          "color": "#EF553B",
          "dash": "solid"
         },
         "marker": {
          "symbol": "circle"
         },
         "mode": "lines",
         "name": "Gummy Vitamins",
         "orientation": "v",
         "showlegend": true,
         "type": "scatter",
         "x": [
          "January",
          "February",
          "March",
          "April",
          "May",
          "June"
         ],
         "xaxis": "x",
         "y": [
          9681,
          9980,
          10145,
          9842,
          9948,
          9980
         ],
         "yaxis": "y"
        },
        {
         "hovertemplate": "Items=Gummy Worms<br>Month=%{x}<br>value=%{y}<extra></extra>",
         "legendgroup": "Gummy Worms",
         "line": {
          "color": "#00cc96",
          "dash": "solid"
         },
         "marker": {
          "symbol": "circle"
         },
         "mode": "lines",
         "name": "Gummy Worms",
         "orientation": "v",
         "showlegend": true,
         "type": "scatter",
         "x": [
          "January",
          "February",
          "March",
          "April",
          "May",
          "June"
         ],
         "xaxis": "x",
         "y": [
          9559,
          9996,
          9986,
          10043,
          9801,
          9934
         ],
         "yaxis": "y"
        },
        {
         "hovertemplate": "Items=Kimchi and Seaweed<br>Month=%{x}<br>value=%{y}<extra></extra>",
         "legendgroup": "Kimchi and Seaweed",
         "line": {
          "color": "#ab63fa",
          "dash": "solid"
         },
         "marker": {
          "symbol": "circle"
         },
         "mode": "lines",
         "name": "Kimchi and Seaweed",
         "orientation": "v",
         "showlegend": true,
         "type": "scatter",
         "x": [
          "January",
          "February",
          "March",
          "April",
          "May",
          "June"
         ],
         "xaxis": "x",
         "y": [
          9676,
          9949,
          9967,
          9921,
          9773,
          10104
         ],
         "yaxis": "y"
        },
        {
         "hovertemplate": "Items=Nutrional Milk<br>Month=%{x}<br>value=%{y}<extra></extra>",
         "legendgroup": "Nutrional Milk",
         "line": {
          "color": "#FFA15A",
          "dash": "solid"
         },
         "marker": {
          "symbol": "circle"
         },
         "mode": "lines",
         "name": "Nutrional Milk",
         "orientation": "v",
         "showlegend": true,
         "type": "scatter",
         "x": [
          "January",
          "February",
          "March",
          "April",
          "May",
          "June"
         ],
         "xaxis": "x",
         "y": [
          9727,
          9691,
          9876,
          9786,
          9881,
          9767
         ],
         "yaxis": "y"
        },
        {
         "hovertemplate": "Items=Orange Beans<br>Month=%{x}<br>value=%{y}<extra></extra>",
         "legendgroup": "Orange Beans",
         "line": {
          "color": "#19d3f3",
          "dash": "solid"
         },
         "marker": {
          "symbol": "circle"
         },
         "mode": "lines",
         "name": "Orange Beans",
         "orientation": "v",
         "showlegend": true,
         "type": "scatter",
         "x": [
          "January",
          "February",
          "March",
          "April",
          "May",
          "June"
         ],
         "xaxis": "x",
         "y": [
          9774,
          10037,
          9611,
          9914,
          9964,
          10106
         ],
         "yaxis": "y"
        },
        {
         "hovertemplate": "Items=Yummy Vegetables<br>Month=%{x}<br>value=%{y}<extra></extra>",
         "legendgroup": "Yummy Vegetables",
         "line": {
          "color": "#FF6692",
          "dash": "solid"
         },
         "marker": {
          "symbol": "circle"
         },
         "mode": "lines",
         "name": "Yummy Vegetables",
         "orientation": "v",
         "showlegend": true,
         "type": "scatter",
         "x": [
          "January",
          "February",
          "March",
          "April",
          "May",
          "June"
         ],
         "xaxis": "x",
         "y": [
          9959,
          10256,
          9896,
          9861,
          9735,
          9722
         ],
         "yaxis": "y"
        }
       ],
       "layout": {
        "autosize": true,
        "legend": {
         "title": {
          "text": "Items"
         },
         "tracegroupgap": 0
        },
        "template": {
         "data": {
          "bar": [
           {
            "error_x": {
             "color": "#2a3f5f"
            },
            "error_y": {
             "color": "#2a3f5f"
            },
            "marker": {
             "line": {
              "color": "#E5ECF6",
              "width": 0.5
             },
             "pattern": {
              "fillmode": "overlay",
              "size": 10,
              "solidity": 0.2
             }
            },
            "type": "bar"
           }
          ],
          "barpolar": [
           {
            "marker": {
             "line": {
              "color": "#E5ECF6",
              "width": 0.5
             },
             "pattern": {
              "fillmode": "overlay",
              "size": 10,
              "solidity": 0.2
             }
            },
            "type": "barpolar"
           }
          ],
          "carpet": [
           {
            "aaxis": {
             "endlinecolor": "#2a3f5f",
             "gridcolor": "white",
             "linecolor": "white",
             "minorgridcolor": "white",
             "startlinecolor": "#2a3f5f"
            },
            "baxis": {
             "endlinecolor": "#2a3f5f",
             "gridcolor": "white",
             "linecolor": "white",
             "minorgridcolor": "white",
             "startlinecolor": "#2a3f5f"
            },
            "type": "carpet"
           }
          ],
          "choropleth": [
           {
            "colorbar": {
             "outlinewidth": 0,
             "ticks": ""
            },
            "type": "choropleth"
           }
          ],
          "contour": [
           {
            "colorbar": {
             "outlinewidth": 0,
             "ticks": ""
            },
            "colorscale": [
             [
              0,
              "#0d0887"
             ],
             [
              0.1111111111111111,
              "#46039f"
             ],
             [
              0.2222222222222222,
              "#7201a8"
             ],
             [
              0.3333333333333333,
              "#9c179e"
             ],
             [
              0.4444444444444444,
              "#bd3786"
             ],
             [
              0.5555555555555556,
              "#d8576b"
             ],
             [
              0.6666666666666666,
              "#ed7953"
             ],
             [
              0.7777777777777778,
              "#fb9f3a"
             ],
             [
              0.8888888888888888,
              "#fdca26"
             ],
             [
              1,
              "#f0f921"
             ]
            ],
            "type": "contour"
           }
          ],
          "contourcarpet": [
           {
            "colorbar": {
             "outlinewidth": 0,
             "ticks": ""
            },
            "type": "contourcarpet"
           }
          ],
          "heatmap": [
           {
            "colorbar": {
             "outlinewidth": 0,
             "ticks": ""
            },
            "colorscale": [
             [
              0,
              "#0d0887"
             ],
             [
              0.1111111111111111,
              "#46039f"
             ],
             [
              0.2222222222222222,
              "#7201a8"
             ],
             [
              0.3333333333333333,
              "#9c179e"
             ],
             [
              0.4444444444444444,
              "#bd3786"
             ],
             [
              0.5555555555555556,
              "#d8576b"
             ],
             [
              0.6666666666666666,
              "#ed7953"
             ],
             [
              0.7777777777777778,
              "#fb9f3a"
             ],
             [
              0.8888888888888888,
              "#fdca26"
             ],
             [
              1,
              "#f0f921"
             ]
            ],
            "type": "heatmap"
           }
          ],
          "heatmapgl": [
           {
            "colorbar": {
             "outlinewidth": 0,
             "ticks": ""
            },
            "colorscale": [
             [
              0,
              "#0d0887"
             ],
             [
              0.1111111111111111,
              "#46039f"
             ],
             [
              0.2222222222222222,
              "#7201a8"
             ],
             [
              0.3333333333333333,
              "#9c179e"
             ],
             [
              0.4444444444444444,
              "#bd3786"
             ],
             [
              0.5555555555555556,
              "#d8576b"
             ],
             [
              0.6666666666666666,
              "#ed7953"
             ],
             [
              0.7777777777777778,
              "#fb9f3a"
             ],
             [
              0.8888888888888888,
              "#fdca26"
             ],
             [
              1,
              "#f0f921"
             ]
            ],
            "type": "heatmapgl"
           }
          ],
          "histogram": [
           {
            "marker": {
             "pattern": {
              "fillmode": "overlay",
              "size": 10,
              "solidity": 0.2
             }
            },
            "type": "histogram"
           }
          ],
          "histogram2d": [
           {
            "colorbar": {
             "outlinewidth": 0,
             "ticks": ""
            },
            "colorscale": [
             [
              0,
              "#0d0887"
             ],
             [
              0.1111111111111111,
              "#46039f"
             ],
             [
              0.2222222222222222,
              "#7201a8"
             ],
             [
              0.3333333333333333,
              "#9c179e"
             ],
             [
              0.4444444444444444,
              "#bd3786"
             ],
             [
              0.5555555555555556,
              "#d8576b"
             ],
             [
              0.6666666666666666,
              "#ed7953"
             ],
             [
              0.7777777777777778,
              "#fb9f3a"
             ],
             [
              0.8888888888888888,
              "#fdca26"
             ],
             [
              1,
              "#f0f921"
             ]
            ],
            "type": "histogram2d"
           }
          ],
          "histogram2dcontour": [
           {
            "colorbar": {
             "outlinewidth": 0,
             "ticks": ""
            },
            "colorscale": [
             [
              0,
              "#0d0887"
             ],
             [
              0.1111111111111111,
              "#46039f"
             ],
             [
              0.2222222222222222,
              "#7201a8"
             ],
             [
              0.3333333333333333,
              "#9c179e"
             ],
             [
              0.4444444444444444,
              "#bd3786"
             ],
             [
              0.5555555555555556,
              "#d8576b"
             ],
             [
              0.6666666666666666,
              "#ed7953"
             ],
             [
              0.7777777777777778,
              "#fb9f3a"
             ],
             [
              0.8888888888888888,
              "#fdca26"
             ],
             [
              1,
              "#f0f921"
             ]
            ],
            "type": "histogram2dcontour"
           }
          ],
          "mesh3d": [
           {
            "colorbar": {
             "outlinewidth": 0,
             "ticks": ""
            },
            "type": "mesh3d"
           }
          ],
          "parcoords": [
           {
            "line": {
             "colorbar": {
              "outlinewidth": 0,
              "ticks": ""
             }
            },
            "type": "parcoords"
           }
          ],
          "pie": [
           {
            "automargin": true,
            "type": "pie"
           }
          ],
          "scatter": [
           {
            "marker": {
             "colorbar": {
              "outlinewidth": 0,
              "ticks": ""
             }
            },
            "type": "scatter"
           }
          ],
          "scatter3d": [
           {
            "line": {
             "colorbar": {
              "outlinewidth": 0,
              "ticks": ""
             }
            },
            "marker": {
             "colorbar": {
              "outlinewidth": 0,
              "ticks": ""
             }
            },
            "type": "scatter3d"
           }
          ],
          "scattercarpet": [
           {
            "marker": {
             "colorbar": {
              "outlinewidth": 0,
              "ticks": ""
             }
            },
            "type": "scattercarpet"
           }
          ],
          "scattergeo": [
           {
            "marker": {
             "colorbar": {
              "outlinewidth": 0,
              "ticks": ""
             }
            },
            "type": "scattergeo"
           }
          ],
          "scattergl": [
           {
            "marker": {
             "colorbar": {
              "outlinewidth": 0,
              "ticks": ""
             }
            },
            "type": "scattergl"
           }
          ],
          "scattermapbox": [
           {
            "marker": {
             "colorbar": {
              "outlinewidth": 0,
              "ticks": ""
             }
            },
            "type": "scattermapbox"
           }
          ],
          "scatterpolar": [
           {
            "marker": {
             "colorbar": {
              "outlinewidth": 0,
              "ticks": ""
             }
            },
            "type": "scatterpolar"
           }
          ],
          "scatterpolargl": [
           {
            "marker": {
             "colorbar": {
              "outlinewidth": 0,
              "ticks": ""
             }
            },
            "type": "scatterpolargl"
           }
          ],
          "scatterternary": [
           {
            "marker": {
             "colorbar": {
              "outlinewidth": 0,
              "ticks": ""
             }
            },
            "type": "scatterternary"
           }
          ],
          "surface": [
           {
            "colorbar": {
             "outlinewidth": 0,
             "ticks": ""
            },
            "colorscale": [
             [
              0,
              "#0d0887"
             ],
             [
              0.1111111111111111,
              "#46039f"
             ],
             [
              0.2222222222222222,
              "#7201a8"
             ],
             [
              0.3333333333333333,
              "#9c179e"
             ],
             [
              0.4444444444444444,
              "#bd3786"
             ],
             [
              0.5555555555555556,
              "#d8576b"
             ],
             [
              0.6666666666666666,
              "#ed7953"
             ],
             [
              0.7777777777777778,
              "#fb9f3a"
             ],
             [
              0.8888888888888888,
              "#fdca26"
             ],
             [
              1,
              "#f0f921"
             ]
            ],
            "type": "surface"
           }
          ],
          "table": [
           {
            "cells": {
             "fill": {
              "color": "#EBF0F8"
             },
             "line": {
              "color": "white"
             }
            },
            "header": {
             "fill": {
              "color": "#C8D4E3"
             },
             "line": {
              "color": "white"
             }
            },
            "type": "table"
           }
          ]
         },
         "layout": {
          "annotationdefaults": {
           "arrowcolor": "#2a3f5f",
           "arrowhead": 0,
           "arrowwidth": 1
          },
          "autotypenumbers": "strict",
          "coloraxis": {
           "colorbar": {
            "outlinewidth": 0,
            "ticks": ""
           }
          },
          "colorscale": {
           "diverging": [
            [
             0,
             "#8e0152"
            ],
            [
             0.1,
             "#c51b7d"
            ],
            [
             0.2,
             "#de77ae"
            ],
            [
             0.3,
             "#f1b6da"
            ],
            [
             0.4,
             "#fde0ef"
            ],
            [
             0.5,
             "#f7f7f7"
            ],
            [
             0.6,
             "#e6f5d0"
            ],
            [
             0.7,
             "#b8e186"
            ],
            [
             0.8,
             "#7fbc41"
            ],
            [
             0.9,
             "#4d9221"
            ],
            [
             1,
             "#276419"
            ]
           ],
           "sequential": [
            [
             0,
             "#0d0887"
            ],
            [
             0.1111111111111111,
             "#46039f"
            ],
            [
             0.2222222222222222,
             "#7201a8"
            ],
            [
             0.3333333333333333,
             "#9c179e"
            ],
            [
             0.4444444444444444,
             "#bd3786"
            ],
            [
             0.5555555555555556,
             "#d8576b"
            ],
            [
             0.6666666666666666,
             "#ed7953"
            ],
            [
             0.7777777777777778,
             "#fb9f3a"
            ],
            [
             0.8888888888888888,
             "#fdca26"
            ],
            [
             1,
             "#f0f921"
            ]
           ],
           "sequentialminus": [
            [
             0,
             "#0d0887"
            ],
            [
             0.1111111111111111,
             "#46039f"
            ],
            [
             0.2222222222222222,
             "#7201a8"
            ],
            [
             0.3333333333333333,
             "#9c179e"
            ],
            [
             0.4444444444444444,
             "#bd3786"
            ],
            [
             0.5555555555555556,
             "#d8576b"
            ],
            [
             0.6666666666666666,
             "#ed7953"
            ],
            [
             0.7777777777777778,
             "#fb9f3a"
            ],
            [
             0.8888888888888888,
             "#fdca26"
            ],
            [
             1,
             "#f0f921"
            ]
           ]
          },
          "colorway": [
           "#636efa",
           "#EF553B",
           "#00cc96",
           "#ab63fa",
           "#FFA15A",
           "#19d3f3",
           "#FF6692",
           "#B6E880",
           "#FF97FF",
           "#FECB52"
          ],
          "font": {
           "color": "#2a3f5f"
          },
          "geo": {
           "bgcolor": "white",
           "lakecolor": "white",
           "landcolor": "#E5ECF6",
           "showlakes": true,
           "showland": true,
           "subunitcolor": "white"
          },
          "hoverlabel": {
           "align": "left"
          },
          "hovermode": "closest",
          "mapbox": {
           "style": "light"
          },
          "paper_bgcolor": "white",
          "plot_bgcolor": "#E5ECF6",
          "polar": {
           "angularaxis": {
            "gridcolor": "white",
            "linecolor": "white",
            "ticks": ""
           },
           "bgcolor": "#E5ECF6",
           "radialaxis": {
            "gridcolor": "white",
            "linecolor": "white",
            "ticks": ""
           }
          },
          "scene": {
           "xaxis": {
            "backgroundcolor": "#E5ECF6",
            "gridcolor": "white",
            "gridwidth": 2,
            "linecolor": "white",
            "showbackground": true,
            "ticks": "",
            "zerolinecolor": "white"
           },
           "yaxis": {
            "backgroundcolor": "#E5ECF6",
            "gridcolor": "white",
            "gridwidth": 2,
            "linecolor": "white",
            "showbackground": true,
            "ticks": "",
            "zerolinecolor": "white"
           },
           "zaxis": {
            "backgroundcolor": "#E5ECF6",
            "gridcolor": "white",
            "gridwidth": 2,
            "linecolor": "white",
            "showbackground": true,
            "ticks": "",
            "zerolinecolor": "white"
           }
          },
          "shapedefaults": {
           "line": {
            "color": "#2a3f5f"
           }
          },
          "ternary": {
           "aaxis": {
            "gridcolor": "white",
            "linecolor": "white",
            "ticks": ""
           },
           "baxis": {
            "gridcolor": "white",
            "linecolor": "white",
            "ticks": ""
           },
           "bgcolor": "#E5ECF6",
           "caxis": {
            "gridcolor": "white",
            "linecolor": "white",
            "ticks": ""
           }
          },
          "title": {
           "x": 0.05
          },
          "xaxis": {
           "automargin": true,
           "gridcolor": "white",
           "linecolor": "white",
           "ticks": "",
           "title": {
            "standoff": 15
           },
           "zerolinecolor": "white",
           "zerolinewidth": 2
          },
          "yaxis": {
           "automargin": true,
           "gridcolor": "white",
           "linecolor": "white",
           "ticks": "",
           "title": {
            "standoff": 15
           },
           "zerolinecolor": "white",
           "zerolinewidth": 2
          }
         }
        },
        "title": {
         "text": "Items Sold Per Month"
        },
        "xaxis": {
         "anchor": "y",
         "autorange": true,
         "domain": [
          0,
          1
         ],
         "range": [
          0,
          5
         ],
         "title": {
          "text": "Month"
         },
         "type": "category"
        },
        "yaxis": {
         "anchor": "x",
         "autorange": true,
         "domain": [
          0,
          1
         ],
         "range": [
          9520.277777777777,
          10294.722222222223
         ],
         "title": {
          "text": "value"
         },
         "type": "linear"
        }
       }
      },
      "image/png": "[encoded data removed]",
      "text/html": [
       "<div>                            <div id=\"849f1e1e-006d-4d71-882d-c56261b20b76\" class=\"plotly-graph-div\" style=\"height:525px; width:100%;\"></div>            <script type=\"text/javascript\">                require([\"plotly\"], function(Plotly) {                    window.PLOTLYENV=window.PLOTLYENV || {};                                    if (document.getElementById(\"849f1e1e-006d-4d71-882d-c56261b20b76\")) {                    Plotly.newPlot(                        \"849f1e1e-006d-4d71-882d-c56261b20b76\",                        [{\"hovertemplate\":\"Items=Beef Chicharon<br>Month=%{x}<br>value=%{y}<extra></extra>\",\"legendgroup\":\"Beef Chicharon\",\"line\":{\"color\":\"#636efa\",\"dash\":\"solid\"},\"marker\":{\"symbol\":\"circle\"},\"mode\":\"lines\",\"name\":\"Beef Chicharon\",\"orientation\":\"v\",\"showlegend\":true,\"x\":[\"January\",\"February\",\"March\",\"April\",\"May\",\"June\"],\"xaxis\":\"x\",\"y\":[9665,10001,9816,9890,10028,9902],\"yaxis\":\"y\",\"type\":\"scatter\"},{\"hovertemplate\":\"Items=Gummy Vitamins<br>Month=%{x}<br>value=%{y}<extra></extra>\",\"legendgroup\":\"Gummy Vitamins\",\"line\":{\"color\":\"#EF553B\",\"dash\":\"solid\"},\"marker\":{\"symbol\":\"circle\"},\"mode\":\"lines\",\"name\":\"Gummy Vitamins\",\"orientation\":\"v\",\"showlegend\":true,\"x\":[\"January\",\"February\",\"March\",\"April\",\"May\",\"June\"],\"xaxis\":\"x\",\"y\":[9681,9980,10145,9842,9948,9980],\"yaxis\":\"y\",\"type\":\"scatter\"},{\"hovertemplate\":\"Items=Gummy Worms<br>Month=%{x}<br>value=%{y}<extra></extra>\",\"legendgroup\":\"Gummy Worms\",\"line\":{\"color\":\"#00cc96\",\"dash\":\"solid\"},\"marker\":{\"symbol\":\"circle\"},\"mode\":\"lines\",\"name\":\"Gummy Worms\",\"orientation\":\"v\",\"showlegend\":true,\"x\":[\"January\",\"February\",\"March\",\"April\",\"May\",\"June\"],\"xaxis\":\"x\",\"y\":[9559,9996,9986,10043,9801,9934],\"yaxis\":\"y\",\"type\":\"scatter\"},{\"hovertemplate\":\"Items=Kimchi and Seaweed<br>Month=%{x}<br>value=%{y}<extra></extra>\",\"legendgroup\":\"Kimchi and Seaweed\",\"line\":{\"color\":\"#ab63fa\",\"dash\":\"solid\"},\"marker\":{\"symbol\":\"circle\"},\"mode\":\"lines\",\"name\":\"Kimchi and Seaweed\",\"orientation\":\"v\",\"showlegend\":true,\"x\":[\"January\",\"February\",\"March\",\"April\",\"May\",\"June\"],\"xaxis\":\"x\",\"y\":[9676,9949,9967,9921,9773,10104],\"yaxis\":\"y\",\"type\":\"scatter\"},{\"hovertemplate\":\"Items=Nutrional Milk<br>Month=%{x}<br>value=%{y}<extra></extra>\",\"legendgroup\":\"Nutrional Milk\",\"line\":{\"color\":\"#FFA15A\",\"dash\":\"solid\"},\"marker\":{\"symbol\":\"circle\"},\"mode\":\"lines\",\"name\":\"Nutrional Milk\",\"orientation\":\"v\",\"showlegend\":true,\"x\":[\"January\",\"February\",\"March\",\"April\",\"May\",\"June\"],\"xaxis\":\"x\",\"y\":[9727,9691,9876,9786,9881,9767],\"yaxis\":\"y\",\"type\":\"scatter\"},{\"hovertemplate\":\"Items=Orange Beans<br>Month=%{x}<br>value=%{y}<extra></extra>\",\"legendgroup\":\"Orange Beans\",\"line\":{\"color\":\"#19d3f3\",\"dash\":\"solid\"},\"marker\":{\"symbol\":\"circle\"},\"mode\":\"lines\",\"name\":\"Orange Beans\",\"orientation\":\"v\",\"showlegend\":true,\"x\":[\"January\",\"February\",\"March\",\"April\",\"May\",\"June\"],\"xaxis\":\"x\",\"y\":[9774,10037,9611,9914,9964,10106],\"yaxis\":\"y\",\"type\":\"scatter\"},{\"hovertemplate\":\"Items=Yummy Vegetables<br>Month=%{x}<br>value=%{y}<extra></extra>\",\"legendgroup\":\"Yummy Vegetables\",\"line\":{\"color\":\"#FF6692\",\"dash\":\"solid\"},\"marker\":{\"symbol\":\"circle\"},\"mode\":\"lines\",\"name\":\"Yummy Vegetables\",\"orientation\":\"v\",\"showlegend\":true,\"x\":[\"January\",\"February\",\"March\",\"April\",\"May\",\"June\"],\"xaxis\":\"x\",\"y\":[9959,10256,9896,9861,9735,9722],\"yaxis\":\"y\",\"type\":\"scatter\"}],                        {\"template\":{\"data\":{\"bar\":[{\"error_x\":{\"color\":\"#2a3f5f\"},\"error_y\":{\"color\":\"#2a3f5f\"},\"marker\":{\"line\":{\"color\":\"#E5ECF6\",\"width\":0.5},\"pattern\":{\"fillmode\":\"overlay\",\"size\":10,\"solidity\":0.2}},\"type\":\"bar\"}],\"barpolar\":[{\"marker\":{\"line\":{\"color\":\"#E5ECF6\",\"width\":0.5},\"pattern\":{\"fillmode\":\"overlay\",\"size\":10,\"solidity\":0.2}},\"type\":\"barpolar\"}],\"carpet\":[{\"aaxis\":{\"endlinecolor\":\"#2a3f5f\",\"gridcolor\":\"white\",\"linecolor\":\"white\",\"minorgridcolor\":\"white\",\"startlinecolor\":\"#2a3f5f\"},\"baxis\":{\"endlinecolor\":\"#2a3f5f\",\"gridcolor\":\"white\",\"linecolor\":\"white\",\"minorgridcolor\":\"white\",\"startlinecolor\":\"#2a3f5f\"},\"type\":\"carpet\"}],\"choropleth\":[{\"colorbar\":{\"outlinewidth\":0,\"ticks\":\"\"},\"type\":\"choropleth\"}],\"contour\":[{\"colorbar\":{\"outlinewidth\":0,\"ticks\":\"\"},\"colorscale\":[[0.0,\"#0d0887\"],[0.1111111111111111,\"#46039f\"],[0.2222222222222222,\"#7201a8\"],[0.3333333333333333,\"#9c179e\"],[0.4444444444444444,\"#bd3786\"],[0.5555555555555556,\"#d8576b\"],[0.6666666666666666,\"#ed7953\"],[0.7777777777777778,\"#fb9f3a\"],[0.8888888888888888,\"#fdca26\"],[1.0,\"#f0f921\"]],\"type\":\"contour\"}],\"contourcarpet\":[{\"colorbar\":{\"outlinewidth\":0,\"ticks\":\"\"},\"type\":\"contourcarpet\"}],\"heatmap\":[{\"colorbar\":{\"outlinewidth\":0,\"ticks\":\"\"},\"colorscale\":[[0.0,\"#0d0887\"],[0.1111111111111111,\"#46039f\"],[0.2222222222222222,\"#7201a8\"],[0.3333333333333333,\"#9c179e\"],[0.4444444444444444,\"#bd3786\"],[0.5555555555555556,\"#d8576b\"],[0.6666666666666666,\"#ed7953\"],[0.7777777777777778,\"#fb9f3a\"],[0.8888888888888888,\"#fdca26\"],[1.0,\"#f0f921\"]],\"type\":\"heatmap\"}],\"heatmapgl\":[{\"colorbar\":{\"outlinewidth\":0,\"ticks\":\"\"},\"colorscale\":[[0.0,\"#0d0887\"],[0.1111111111111111,\"#46039f\"],[0.2222222222222222,\"#7201a8\"],[0.3333333333333333,\"#9c179e\"],[0.4444444444444444,\"#bd3786\"],[0.5555555555555556,\"#d8576b\"],[0.6666666666666666,\"#ed7953\"],[0.7777777777777778,\"#fb9f3a\"],[0.8888888888888888,\"#fdca26\"],[1.0,\"#f0f921\"]],\"type\":\"heatmapgl\"}],\"histogram\":[{\"marker\":{\"pattern\":{\"fillmode\":\"overlay\",\"size\":10,\"solidity\":0.2}},\"type\":\"histogram\"}],\"histogram2d\":[{\"colorbar\":{\"outlinewidth\":0,\"ticks\":\"\"},\"colorscale\":[[0.0,\"#0d0887\"],[0.1111111111111111,\"#46039f\"],[0.2222222222222222,\"#7201a8\"],[0.3333333333333333,\"#9c179e\"],[0.4444444444444444,\"#bd3786\"],[0.5555555555555556,\"#d8576b\"],[0.6666666666666666,\"#ed7953\"],[0.7777777777777778,\"#fb9f3a\"],[0.8888888888888888,\"#fdca26\"],[1.0,\"#f0f921\"]],\"type\":\"histogram2d\"}],\"histogram2dcontour\":[{\"colorbar\":{\"outlinewidth\":0,\"ticks\":\"\"},\"colorscale\":[[0.0,\"#0d0887\"],[0.1111111111111111,\"#46039f\"],[0.2222222222222222,\"#7201a8\"],[0.3333333333333333,\"#9c179e\"],[0.4444444444444444,\"#bd3786\"],[0.5555555555555556,\"#d8576b\"],[0.6666666666666666,\"#ed7953\"],[0.7777777777777778,\"#fb9f3a\"],[0.8888888888888888,\"#fdca26\"],[1.0,\"#f0f921\"]],\"type\":\"histogram2dcontour\"}],\"mesh3d\":[{\"colorbar\":{\"outlinewidth\":0,\"ticks\":\"\"},\"type\":\"mesh3d\"}],\"parcoords\":[{\"line\":{\"colorbar\":{\"outlinewidth\":0,\"ticks\":\"\"}},\"type\":\"parcoords\"}],\"pie\":[{\"automargin\":true,\"type\":\"pie\"}],\"scatter\":[{\"marker\":{\"colorbar\":{\"outlinewidth\":0,\"ticks\":\"\"}},\"type\":\"scatter\"}],\"scatter3d\":[{\"line\":{\"colorbar\":{\"outlinewidth\":0,\"ticks\":\"\"}},\"marker\":{\"colorbar\":{\"outlinewidth\":0,\"ticks\":\"\"}},\"type\":\"scatter3d\"}],\"scattercarpet\":[{\"marker\":{\"colorbar\":{\"outlinewidth\":0,\"ticks\":\"\"}},\"type\":\"scattercarpet\"}],\"scattergeo\":[{\"marker\":{\"colorbar\":{\"outlinewidth\":0,\"ticks\":\"\"}},\"type\":\"scattergeo\"}],\"scattergl\":[{\"marker\":{\"colorbar\":{\"outlinewidth\":0,\"ticks\":\"\"}},\"type\":\"scattergl\"}],\"scattermapbox\":[{\"marker\":{\"colorbar\":{\"outlinewidth\":0,\"ticks\":\"\"}},\"type\":\"scattermapbox\"}],\"scatterpolar\":[{\"marker\":{\"colorbar\":{\"outlinewidth\":0,\"ticks\":\"\"}},\"type\":\"scatterpolar\"}],\"scatterpolargl\":[{\"marker\":{\"colorbar\":{\"outlinewidth\":0,\"ticks\":\"\"}},\"type\":\"scatterpolargl\"}],\"scatterternary\":[{\"marker\":{\"colorbar\":{\"outlinewidth\":0,\"ticks\":\"\"}},\"type\":\"scatterternary\"}],\"surface\":[{\"colorbar\":{\"outlinewidth\":0,\"ticks\":\"\"},\"colorscale\":[[0.0,\"#0d0887\"],[0.1111111111111111,\"#46039f\"],[0.2222222222222222,\"#7201a8\"],[0.3333333333333333,\"#9c179e\"],[0.4444444444444444,\"#bd3786\"],[0.5555555555555556,\"#d8576b\"],[0.6666666666666666,\"#ed7953\"],[0.7777777777777778,\"#fb9f3a\"],[0.8888888888888888,\"#fdca26\"],[1.0,\"#f0f921\"]],\"type\":\"surface\"}],\"table\":[{\"cells\":{\"fill\":{\"color\":\"#EBF0F8\"},\"line\":{\"color\":\"white\"}},\"header\":{\"fill\":{\"color\":\"#C8D4E3\"},\"line\":{\"color\":\"white\"}},\"type\":\"table\"}]},\"layout\":{\"annotationdefaults\":{\"arrowcolor\":\"#2a3f5f\",\"arrowhead\":0,\"arrowwidth\":1},\"autotypenumbers\":\"strict\",\"coloraxis\":{\"colorbar\":{\"outlinewidth\":0,\"ticks\":\"\"}},\"colorscale\":{\"diverging\":[[0,\"#8e0152\"],[0.1,\"#c51b7d\"],[0.2,\"#de77ae\"],[0.3,\"#f1b6da\"],[0.4,\"#fde0ef\"],[0.5,\"#f7f7f7\"],[0.6,\"#e6f5d0\"],[0.7,\"#b8e186\"],[0.8,\"#7fbc41\"],[0.9,\"#4d9221\"],[1,\"#276419\"]],\"sequential\":[[0.0,\"#0d0887\"],[0.1111111111111111,\"#46039f\"],[0.2222222222222222,\"#7201a8\"],[0.3333333333333333,\"#9c179e\"],[0.4444444444444444,\"#bd3786\"],[0.5555555555555556,\"#d8576b\"],[0.6666666666666666,\"#ed7953\"],[0.7777777777777778,\"#fb9f3a\"],[0.8888888888888888,\"#fdca26\"],[1.0,\"#f0f921\"]],\"sequentialminus\":[[0.0,\"#0d0887\"],[0.1111111111111111,\"#46039f\"],[0.2222222222222222,\"#7201a8\"],[0.3333333333333333,\"#9c179e\"],[0.4444444444444444,\"#bd3786\"],[0.5555555555555556,\"#d8576b\"],[0.6666666666666666,\"#ed7953\"],[0.7777777777777778,\"#fb9f3a\"],[0.8888888888888888,\"#fdca26\"],[1.0,\"#f0f921\"]]},\"colorway\":[\"#636efa\",\"#EF553B\",\"#00cc96\",\"#ab63fa\",\"#FFA15A\",\"#19d3f3\",\"#FF6692\",\"#B6E880\",\"#FF97FF\",\"#FECB52\"],\"font\":{\"color\":\"#2a3f5f\"},\"geo\":{\"bgcolor\":\"white\",\"lakecolor\":\"white\",\"landcolor\":\"#E5ECF6\",\"showlakes\":true,\"showland\":true,\"subunitcolor\":\"white\"},\"hoverlabel\":{\"align\":\"left\"},\"hovermode\":\"closest\",\"mapbox\":{\"style\":\"light\"},\"paper_bgcolor\":\"white\",\"plot_bgcolor\":\"#E5ECF6\",\"polar\":{\"angularaxis\":{\"gridcolor\":\"white\",\"linecolor\":\"white\",\"ticks\":\"\"},\"bgcolor\":\"#E5ECF6\",\"radialaxis\":{\"gridcolor\":\"white\",\"linecolor\":\"white\",\"ticks\":\"\"}},\"scene\":{\"xaxis\":{\"backgroundcolor\":\"#E5ECF6\",\"gridcolor\":\"white\",\"gridwidth\":2,\"linecolor\":\"white\",\"showbackground\":true,\"ticks\":\"\",\"zerolinecolor\":\"white\"},\"yaxis\":{\"backgroundcolor\":\"#E5ECF6\",\"gridcolor\":\"white\",\"gridwidth\":2,\"linecolor\":\"white\",\"showbackground\":true,\"ticks\":\"\",\"zerolinecolor\":\"white\"},\"zaxis\":{\"backgroundcolor\":\"#E5ECF6\",\"gridcolor\":\"white\",\"gridwidth\":2,\"linecolor\":\"white\",\"showbackground\":true,\"ticks\":\"\",\"zerolinecolor\":\"white\"}},\"shapedefaults\":{\"line\":{\"color\":\"#2a3f5f\"}},\"ternary\":{\"aaxis\":{\"gridcolor\":\"white\",\"linecolor\":\"white\",\"ticks\":\"\"},\"baxis\":{\"gridcolor\":\"white\",\"linecolor\":\"white\",\"ticks\":\"\"},\"bgcolor\":\"#E5ECF6\",\"caxis\":{\"gridcolor\":\"white\",\"linecolor\":\"white\",\"ticks\":\"\"}},\"title\":{\"x\":0.05},\"xaxis\":{\"automargin\":true,\"gridcolor\":\"white\",\"linecolor\":\"white\",\"ticks\":\"\",\"title\":{\"standoff\":15},\"zerolinecolor\":\"white\",\"zerolinewidth\":2},\"yaxis\":{\"automargin\":true,\"gridcolor\":\"white\",\"linecolor\":\"white\",\"ticks\":\"\",\"title\":{\"standoff\":15},\"zerolinecolor\":\"white\",\"zerolinewidth\":2}}},\"xaxis\":{\"anchor\":\"y\",\"domain\":[0.0,1.0],\"title\":{\"text\":\"Month\"}},\"yaxis\":{\"anchor\":\"x\",\"domain\":[0.0,1.0],\"title\":{\"text\":\"value\"}},\"legend\":{\"title\":{\"text\":\"Items\"},\"tracegroupgap\":0},\"title\":{\"text\":\"Items Sold Per Month\"}},                        {\"responsive\": true}                    ).then(function(){\n",
       "                            \n",
       "var gd = document.getElementById('849f1e1e-006d-4d71-882d-c56261b20b76');\n",
       "var x = new MutationObserver(function (mutations, observer) {{\n",
       "        var display = window.getComputedStyle(gd).display;\n",
       "        if (!display || display === 'none') {{\n",
       "            console.log([gd, 'removed!']);\n",
       "            Plotly.purge(gd);\n",
       "            observer.disconnect();\n",
       "        }}\n",
       "}});\n",
       "\n",
       "// Listen for the removal of the full notebook cells\n",
       "var notebookContainer = gd.closest('#notebook-container');\n",
       "if (notebookContainer) {{\n",
       "    x.observe(notebookContainer, {childList: true});\n",
       "}}\n",
       "\n",
       "// Listen for the clearing of the current output cell\n",
       "var outputEl = gd.closest('.output');\n",
       "if (outputEl) {{\n",
       "    x.observe(outputEl, {childList: true});\n",
       "}}\n",
       "\n",
       "                        })                };                });            </script>        </div>"
      ]
     },
     "metadata": {},
     "output_type": "display_data"
    }
   ],
   "source": [
    "import plotly.express as px\n",
    "\n",
    "new_sold_df = products_sold_df.transpose()\n",
    "new_sold_df.index.name = 'Month'\n",
    "\n",
    "new_sold_df=new_sold_df.iloc[:6]\n",
    "new_sold_df\n",
    "\n",
    "fig = px.line(new_sold_df, \n",
    "              title='Items Sold Per Month')\n",
    "fig"
   ]
  },
  {
   "cell_type": "markdown",
   "id": "231e4a20-2c37-41fa-8759-b0bc630b6d5c",
   "metadata": {},
   "source": [
    "# II. Breakdown of the total sale value per item per month"
   ]
  },
  {
   "cell_type": "code",
   "execution_count": 29,
   "id": "3e1f463b-0aff-442b-94e3-8d3399c624cb",
   "metadata": {},
   "outputs": [
    {
     "data": {
      "text/html": [
       "<div>\n",
       "<style scoped>\n",
       "    .dataframe tbody tr th:only-of-type {\n",
       "        vertical-align: middle;\n",
       "    }\n",
       "\n",
       "    .dataframe tbody tr th {\n",
       "        vertical-align: top;\n",
       "    }\n",
       "\n",
       "    .dataframe thead th {\n",
       "        text-align: right;\n",
       "    }\n",
       "</style>\n",
       "<table border=\"1\" class=\"dataframe\">\n",
       "  <thead>\n",
       "    <tr style=\"text-align: right;\">\n",
       "      <th>Month</th>\n",
       "      <th>Cost per Item</th>\n",
       "      <th>January</th>\n",
       "      <th>February</th>\n",
       "      <th>March</th>\n",
       "      <th>April</th>\n",
       "      <th>May</th>\n",
       "      <th>June</th>\n",
       "      <th>Total Sales per Item</th>\n",
       "    </tr>\n",
       "    <tr>\n",
       "      <th>Items</th>\n",
       "      <th></th>\n",
       "      <th></th>\n",
       "      <th></th>\n",
       "      <th></th>\n",
       "      <th></th>\n",
       "      <th></th>\n",
       "      <th></th>\n",
       "      <th></th>\n",
       "    </tr>\n",
       "  </thead>\n",
       "  <tbody>\n",
       "    <tr>\n",
       "      <th>Beef Chicharon</th>\n",
       "      <td>1299.0</td>\n",
       "      <td>12554835</td>\n",
       "      <td>12991299</td>\n",
       "      <td>12750984</td>\n",
       "      <td>12847110</td>\n",
       "      <td>13026372</td>\n",
       "      <td>12862698</td>\n",
       "      <td>77033298</td>\n",
       "    </tr>\n",
       "    <tr>\n",
       "      <th>Gummy Vitamins</th>\n",
       "      <td>1500.0</td>\n",
       "      <td>14521500</td>\n",
       "      <td>14970000</td>\n",
       "      <td>15217500</td>\n",
       "      <td>14763000</td>\n",
       "      <td>14922000</td>\n",
       "      <td>14970000</td>\n",
       "      <td>89364000</td>\n",
       "    </tr>\n",
       "    <tr>\n",
       "      <th>Gummy Worms</th>\n",
       "      <td>150.0</td>\n",
       "      <td>1433850</td>\n",
       "      <td>1499400</td>\n",
       "      <td>1497900</td>\n",
       "      <td>1506450</td>\n",
       "      <td>1470150</td>\n",
       "      <td>1490100</td>\n",
       "      <td>8897850</td>\n",
       "    </tr>\n",
       "    <tr>\n",
       "      <th>Kimchi and Seaweed</th>\n",
       "      <td>799.0</td>\n",
       "      <td>7731124</td>\n",
       "      <td>7949251</td>\n",
       "      <td>7963633</td>\n",
       "      <td>7926879</td>\n",
       "      <td>7808627</td>\n",
       "      <td>8073096</td>\n",
       "      <td>47452610</td>\n",
       "    </tr>\n",
       "    <tr>\n",
       "      <th>Nutrional Milk</th>\n",
       "      <td>1990.0</td>\n",
       "      <td>19356730</td>\n",
       "      <td>19285090</td>\n",
       "      <td>19653240</td>\n",
       "      <td>19474140</td>\n",
       "      <td>19663190</td>\n",
       "      <td>19436330</td>\n",
       "      <td>116868720</td>\n",
       "    </tr>\n",
       "    <tr>\n",
       "      <th>Orange Beans</th>\n",
       "      <td>199.0</td>\n",
       "      <td>1945026</td>\n",
       "      <td>1997363</td>\n",
       "      <td>1912589</td>\n",
       "      <td>1972886</td>\n",
       "      <td>1982836</td>\n",
       "      <td>2011094</td>\n",
       "      <td>11821794</td>\n",
       "    </tr>\n",
       "    <tr>\n",
       "      <th>Yummy Vegetables</th>\n",
       "      <td>500.0</td>\n",
       "      <td>4979500</td>\n",
       "      <td>5128000</td>\n",
       "      <td>4948000</td>\n",
       "      <td>4930500</td>\n",
       "      <td>4867500</td>\n",
       "      <td>4861000</td>\n",
       "      <td>29714500</td>\n",
       "    </tr>\n",
       "    <tr>\n",
       "      <th>Total Monthly Sales</th>\n",
       "      <td></td>\n",
       "      <td>62522565</td>\n",
       "      <td>63820403</td>\n",
       "      <td>63943846</td>\n",
       "      <td>63420965</td>\n",
       "      <td>63740675</td>\n",
       "      <td>63704318</td>\n",
       "      <td>381152772</td>\n",
       "    </tr>\n",
       "  </tbody>\n",
       "</table>\n",
       "</div>"
      ],
      "text/plain": [
       "Month               Cost per Item   January  February     March     April  \\\n",
       "Items                                                                       \n",
       "Beef Chicharon             1299.0  12554835  12991299  12750984  12847110   \n",
       "Gummy Vitamins             1500.0  14521500  14970000  15217500  14763000   \n",
       "Gummy Worms                 150.0   1433850   1499400   1497900   1506450   \n",
       "Kimchi and Seaweed          799.0   7731124   7949251   7963633   7926879   \n",
       "Nutrional Milk             1990.0  19356730  19285090  19653240  19474140   \n",
       "Orange Beans                199.0   1945026   1997363   1912589   1972886   \n",
       "Yummy Vegetables            500.0   4979500   5128000   4948000   4930500   \n",
       "Total Monthly Sales                62522565  63820403  63943846  63420965   \n",
       "\n",
       "Month                     May      June  Total Sales per Item  \n",
       "Items                                                          \n",
       "Beef Chicharon       13026372  12862698              77033298  \n",
       "Gummy Vitamins       14922000  14970000              89364000  \n",
       "Gummy Worms           1470150   1490100               8897850  \n",
       "Kimchi and Seaweed    7808627   8073096              47452610  \n",
       "Nutrional Milk       19663190  19436330             116868720  \n",
       "Orange Beans          1982836   2011094              11821794  \n",
       "Yummy Vegetables      4867500   4861000              29714500  \n",
       "Total Monthly Sales  63740675  63704318             381152772  "
      ]
     },
     "execution_count": 29,
     "metadata": {},
     "output_type": "execute_result"
    }
   ],
   "source": [
    "# Get rows without ; and rows with x1, and drop the duplicates (for cleaning the json dataframe)\n",
    "price_chart = df[[\"transaction_items\",\"transaction_value\"]].drop_duplicates(subset=['transaction_items']).loc[(df['transaction_items'].str.contains(\";\") == False) & (df['transaction_items'].str.contains(\"x1\"))]\n",
    "\n",
    "# Obtain product name from the price list as index \n",
    "def new_index(name):\n",
    "    index_name = name[name.index(\",\")+1:name.index(\",\",name.index(\",\")+1)]\n",
    "    return index_name\n",
    "\n",
    "# Uses the new index names to make a column for products sold in the price list \n",
    "price_chart['Items'] = price_chart['transaction_items'].apply(new_index)\n",
    "cost_per_item = price_chart.set_index('Items')['transaction_value']\n",
    "\n",
    "# Dataframe for the cost of each item \n",
    "total_sales_df = products_sold_df.copy(deep = True)\n",
    "total_sales_df['Cost per Item'] = cost_per_item\n",
    "\n",
    "# Cost per item is multiplied to the items sold \n",
    "for i in list(products_sold_df.keys()):\n",
    "    total_sales_df[i]=total_sales_df['Cost per Item']*products_sold_df[i]\n",
    "    \n",
    "\n",
    "total_sales_df=total_sales_df[['Cost per Item','January','February','March','April','May','June']]\n",
    "\n",
    "# Creates a column for Total Sales per Item\n",
    "total_sales_df['Total Sales per Item'] = total_sales_df['January'] + total_sales_df['February'] + total_sales_df['March'] + total_sales_df['April'] + total_sales_df['May'] + total_sales_df['June']\n",
    "\n",
    "# Total Monthly Sales Row\n",
    "total_row = total_sales_df.sum().drop('Cost per Item')\n",
    "total_sales_df.loc['Total Monthly Sales']=total_row\n",
    "total_sales_df.replace(np.nan, '', regex=True,inplace=True)\n",
    "total_sales_df = total_sales_df.astype(int,errors='ignore')\n",
    "\n",
    "total_sales_df"
   ]
  },
  {
   "cell_type": "markdown",
   "id": "24d83735-7a7f-4128-b7e1-3163c095bc67",
   "metadata": {},
   "source": [
    "## DataFrame II: Total Monthly Sales"
   ]
  },
  {
   "cell_type": "code",
   "execution_count": 30,
   "id": "5ad3b1d4-3631-473d-8c3a-4784c5c52fbd",
   "metadata": {},
   "outputs": [
    {
     "data": {
      "text/html": [
       "<div>\n",
       "<style scoped>\n",
       "    .dataframe tbody tr th:only-of-type {\n",
       "        vertical-align: middle;\n",
       "    }\n",
       "\n",
       "    .dataframe tbody tr th {\n",
       "        vertical-align: top;\n",
       "    }\n",
       "\n",
       "    .dataframe thead th {\n",
       "        text-align: right;\n",
       "    }\n",
       "</style>\n",
       "<table border=\"1\" class=\"dataframe\">\n",
       "  <thead>\n",
       "    <tr style=\"text-align: right;\">\n",
       "      <th>Month</th>\n",
       "      <th>January</th>\n",
       "      <th>February</th>\n",
       "      <th>March</th>\n",
       "      <th>April</th>\n",
       "      <th>May</th>\n",
       "      <th>June</th>\n",
       "    </tr>\n",
       "    <tr>\n",
       "      <th>Items</th>\n",
       "      <th></th>\n",
       "      <th></th>\n",
       "      <th></th>\n",
       "      <th></th>\n",
       "      <th></th>\n",
       "      <th></th>\n",
       "    </tr>\n",
       "  </thead>\n",
       "  <tbody>\n",
       "    <tr>\n",
       "      <th>Beef Chicharon</th>\n",
       "      <td>12554835</td>\n",
       "      <td>12991299</td>\n",
       "      <td>12750984</td>\n",
       "      <td>12847110</td>\n",
       "      <td>13026372</td>\n",
       "      <td>12862698</td>\n",
       "    </tr>\n",
       "    <tr>\n",
       "      <th>Gummy Vitamins</th>\n",
       "      <td>14521500</td>\n",
       "      <td>14970000</td>\n",
       "      <td>15217500</td>\n",
       "      <td>14763000</td>\n",
       "      <td>14922000</td>\n",
       "      <td>14970000</td>\n",
       "    </tr>\n",
       "    <tr>\n",
       "      <th>Gummy Worms</th>\n",
       "      <td>1433850</td>\n",
       "      <td>1499400</td>\n",
       "      <td>1497900</td>\n",
       "      <td>1506450</td>\n",
       "      <td>1470150</td>\n",
       "      <td>1490100</td>\n",
       "    </tr>\n",
       "    <tr>\n",
       "      <th>Kimchi and Seaweed</th>\n",
       "      <td>7731124</td>\n",
       "      <td>7949251</td>\n",
       "      <td>7963633</td>\n",
       "      <td>7926879</td>\n",
       "      <td>7808627</td>\n",
       "      <td>8073096</td>\n",
       "    </tr>\n",
       "    <tr>\n",
       "      <th>Nutrional Milk</th>\n",
       "      <td>19356730</td>\n",
       "      <td>19285090</td>\n",
       "      <td>19653240</td>\n",
       "      <td>19474140</td>\n",
       "      <td>19663190</td>\n",
       "      <td>19436330</td>\n",
       "    </tr>\n",
       "    <tr>\n",
       "      <th>Orange Beans</th>\n",
       "      <td>1945026</td>\n",
       "      <td>1997363</td>\n",
       "      <td>1912589</td>\n",
       "      <td>1972886</td>\n",
       "      <td>1982836</td>\n",
       "      <td>2011094</td>\n",
       "    </tr>\n",
       "    <tr>\n",
       "      <th>Yummy Vegetables</th>\n",
       "      <td>4979500</td>\n",
       "      <td>5128000</td>\n",
       "      <td>4948000</td>\n",
       "      <td>4930500</td>\n",
       "      <td>4867500</td>\n",
       "      <td>4861000</td>\n",
       "    </tr>\n",
       "    <tr>\n",
       "      <th>Total Monthly Sales</th>\n",
       "      <td>62522565</td>\n",
       "      <td>63820403</td>\n",
       "      <td>63943846</td>\n",
       "      <td>63420965</td>\n",
       "      <td>63740675</td>\n",
       "      <td>63704318</td>\n",
       "    </tr>\n",
       "  </tbody>\n",
       "</table>\n",
       "</div>"
      ],
      "text/plain": [
       "Month                 January  February     March     April       May  \\\n",
       "Items                                                                   \n",
       "Beef Chicharon       12554835  12991299  12750984  12847110  13026372   \n",
       "Gummy Vitamins       14521500  14970000  15217500  14763000  14922000   \n",
       "Gummy Worms           1433850   1499400   1497900   1506450   1470150   \n",
       "Kimchi and Seaweed    7731124   7949251   7963633   7926879   7808627   \n",
       "Nutrional Milk       19356730  19285090  19653240  19474140  19663190   \n",
       "Orange Beans          1945026   1997363   1912589   1972886   1982836   \n",
       "Yummy Vegetables      4979500   5128000   4948000   4930500   4867500   \n",
       "Total Monthly Sales  62522565  63820403  63943846  63420965  63740675   \n",
       "\n",
       "Month                    June  \n",
       "Items                          \n",
       "Beef Chicharon       12862698  \n",
       "Gummy Vitamins       14970000  \n",
       "Gummy Worms           1490100  \n",
       "Kimchi and Seaweed    8073096  \n",
       "Nutrional Milk       19436330  \n",
       "Orange Beans          2011094  \n",
       "Yummy Vegetables      4861000  \n",
       "Total Monthly Sales  63704318  "
      ]
     },
     "execution_count": 30,
     "metadata": {},
     "output_type": "execute_result"
    }
   ],
   "source": [
    "monthly_sales_df = total_sales_df.iloc[0:8,1:7]\n",
    "monthly_sales_df"
   ]
  },
  {
   "cell_type": "code",
   "execution_count": 31,
   "id": "c3e4159a-356c-44f7-9601-3d49e1e72fdf",
   "metadata": {},
   "outputs": [
    {
     "data": {
      "image/png": "[encoded data removed]",
      "text/plain": [
       "<Figure size 864x576 with 1 Axes>"
      ]
     },
     "metadata": {},
     "output_type": "display_data"
    }
   ],
   "source": [
    "new_month = monthly_sales_df.transpose() \n",
    "plt.figure(figsize=(12,8))\n",
    "plt.pie(new_month['Total Monthly Sales'], labels=new_month.index, autopct='%1.1f%%',labeldistance=1.1,\n",
    "        colors = ['#FF9AA2', '#FFB7B2', '#FFDAC1','#E2F0CB', '#B5EAD7', '#C7CEEA', '#FFD1DC']);\n",
    "plt.title('Total Monthly Sales',fontsize=15)\n",
    "plt.show();\n"
   ]
  },
  {
   "cell_type": "markdown",
   "id": "fe1ec55d-ee7e-41d1-b317-90dfe914d255",
   "metadata": {},
   "source": [
    "## DataFrame II: Total Sales per Item"
   ]
  },
  {
   "cell_type": "code",
   "execution_count": 32,
   "id": "ed0e98d0-9ed9-49fa-98de-fd5b235a06d5",
   "metadata": {},
   "outputs": [
    {
     "data": {
      "text/html": [
       "<div>\n",
       "<style scoped>\n",
       "    .dataframe tbody tr th:only-of-type {\n",
       "        vertical-align: middle;\n",
       "    }\n",
       "\n",
       "    .dataframe tbody tr th {\n",
       "        vertical-align: top;\n",
       "    }\n",
       "\n",
       "    .dataframe thead th {\n",
       "        text-align: right;\n",
       "    }\n",
       "</style>\n",
       "<table border=\"1\" class=\"dataframe\">\n",
       "  <thead>\n",
       "    <tr style=\"text-align: right;\">\n",
       "      <th>Month</th>\n",
       "      <th>January</th>\n",
       "      <th>February</th>\n",
       "      <th>March</th>\n",
       "      <th>April</th>\n",
       "      <th>May</th>\n",
       "      <th>June</th>\n",
       "      <th>Total Sales per Item</th>\n",
       "    </tr>\n",
       "    <tr>\n",
       "      <th>Items</th>\n",
       "      <th></th>\n",
       "      <th></th>\n",
       "      <th></th>\n",
       "      <th></th>\n",
       "      <th></th>\n",
       "      <th></th>\n",
       "      <th></th>\n",
       "    </tr>\n",
       "  </thead>\n",
       "  <tbody>\n",
       "    <tr>\n",
       "      <th>Beef Chicharon</th>\n",
       "      <td>12554835</td>\n",
       "      <td>12991299</td>\n",
       "      <td>12750984</td>\n",
       "      <td>12847110</td>\n",
       "      <td>13026372</td>\n",
       "      <td>12862698</td>\n",
       "      <td>77033298</td>\n",
       "    </tr>\n",
       "    <tr>\n",
       "      <th>Gummy Vitamins</th>\n",
       "      <td>14521500</td>\n",
       "      <td>14970000</td>\n",
       "      <td>15217500</td>\n",
       "      <td>14763000</td>\n",
       "      <td>14922000</td>\n",
       "      <td>14970000</td>\n",
       "      <td>89364000</td>\n",
       "    </tr>\n",
       "    <tr>\n",
       "      <th>Gummy Worms</th>\n",
       "      <td>1433850</td>\n",
       "      <td>1499400</td>\n",
       "      <td>1497900</td>\n",
       "      <td>1506450</td>\n",
       "      <td>1470150</td>\n",
       "      <td>1490100</td>\n",
       "      <td>8897850</td>\n",
       "    </tr>\n",
       "    <tr>\n",
       "      <th>Kimchi and Seaweed</th>\n",
       "      <td>7731124</td>\n",
       "      <td>7949251</td>\n",
       "      <td>7963633</td>\n",
       "      <td>7926879</td>\n",
       "      <td>7808627</td>\n",
       "      <td>8073096</td>\n",
       "      <td>47452610</td>\n",
       "    </tr>\n",
       "    <tr>\n",
       "      <th>Nutrional Milk</th>\n",
       "      <td>19356730</td>\n",
       "      <td>19285090</td>\n",
       "      <td>19653240</td>\n",
       "      <td>19474140</td>\n",
       "      <td>19663190</td>\n",
       "      <td>19436330</td>\n",
       "      <td>116868720</td>\n",
       "    </tr>\n",
       "    <tr>\n",
       "      <th>Orange Beans</th>\n",
       "      <td>1945026</td>\n",
       "      <td>1997363</td>\n",
       "      <td>1912589</td>\n",
       "      <td>1972886</td>\n",
       "      <td>1982836</td>\n",
       "      <td>2011094</td>\n",
       "      <td>11821794</td>\n",
       "    </tr>\n",
       "    <tr>\n",
       "      <th>Yummy Vegetables</th>\n",
       "      <td>4979500</td>\n",
       "      <td>5128000</td>\n",
       "      <td>4948000</td>\n",
       "      <td>4930500</td>\n",
       "      <td>4867500</td>\n",
       "      <td>4861000</td>\n",
       "      <td>29714500</td>\n",
       "    </tr>\n",
       "  </tbody>\n",
       "</table>\n",
       "</div>"
      ],
      "text/plain": [
       "Month                January  February     March     April       May  \\\n",
       "Items                                                                  \n",
       "Beef Chicharon      12554835  12991299  12750984  12847110  13026372   \n",
       "Gummy Vitamins      14521500  14970000  15217500  14763000  14922000   \n",
       "Gummy Worms          1433850   1499400   1497900   1506450   1470150   \n",
       "Kimchi and Seaweed   7731124   7949251   7963633   7926879   7808627   \n",
       "Nutrional Milk      19356730  19285090  19653240  19474140  19663190   \n",
       "Orange Beans         1945026   1997363   1912589   1972886   1982836   \n",
       "Yummy Vegetables     4979500   5128000   4948000   4930500   4867500   \n",
       "\n",
       "Month                   June  Total Sales per Item  \n",
       "Items                                               \n",
       "Beef Chicharon      12862698              77033298  \n",
       "Gummy Vitamins      14970000              89364000  \n",
       "Gummy Worms          1490100               8897850  \n",
       "Kimchi and Seaweed   8073096              47452610  \n",
       "Nutrional Milk      19436330             116868720  \n",
       "Orange Beans         2011094              11821794  \n",
       "Yummy Vegetables     4861000              29714500  "
      ]
     },
     "execution_count": 32,
     "metadata": {},
     "output_type": "execute_result"
    }
   ],
   "source": [
    "item_sales_df = total_sales_df.iloc[0:7,1:8]\n",
    "item_sales_df"
   ]
  },
  {
   "cell_type": "code",
   "execution_count": 33,
   "id": "e6ad8599-1b1f-4298-8bb3-add66dc68035",
   "metadata": {},
   "outputs": [
    {
     "data": {
      "image/png": "[encoded data removed]",
      "text/plain": [
       "<Figure size 864x576 with 1 Axes>"
      ]
     },
     "metadata": {},
     "output_type": "display_data"
    }
   ],
   "source": [
    "products = item_sales_df.index\n",
    "values = item_sales_df['Total Sales per Item']\n",
    "\n",
    "plt.figure(figsize=(12,8))\n",
    "plt.pie(values, labels=products, autopct='%1.1f%%',labeldistance=1.1,\n",
    "        colors = ['#FF9AA2', '#FFB7B2', '#FFDAC1','#E2F0CB', '#B5EAD7', '#C7CEEA', '#FFD1DC']);\n",
    "plt.title('Total Sales per Item',fontsize=15)\n",
    "plt.show();"
   ]
  },
  {
   "cell_type": "markdown",
   "id": "a17810af-2861-4079-b71a-6f5f4bcd242e",
   "metadata": {},
   "source": [
    "# III. Customer Loyalty"
   ]
  },
  {
   "cell_type": "markdown",
   "id": "67c1b25a-aef2-416a-befc-d143ecfdcd27",
   "metadata": {},
   "source": [
    "### A. Repeater: Number of customers from the current month who also purchased in the previous month"
   ]
  },
  {
   "cell_type": "code",
   "execution_count": 34,
   "id": "6777f6f8-7c65-4122-a14c-a9e9015e4dfd",
   "metadata": {},
   "outputs": [
    {
     "data": {
      "text/plain": [
       "January        0\n",
       "February    5172\n",
       "March       5216\n",
       "April       5154\n",
       "May         5110\n",
       "June        5193\n",
       "dtype: int64"
      ]
     },
     "execution_count": 34,
     "metadata": {},
     "output_type": "execute_result"
    }
   ],
   "source": [
    "months_list = ['January','February','March','April','May','June']\n",
    "\n",
    "# Gets the index based on the months_list \n",
    "def repeater(month):\n",
    "    month_index = months_list.index(month)\n",
    "\n",
    "    # Refers to January\n",
    "    if month_index == 0:\n",
    "        past_month=None\n",
    "    else:\n",
    "        past_month = months_list[month_index-1:month_index][0]\n",
    "\n",
    "    # DataFrame referring to customers who purchased during the current month\n",
    "    current_df = df[df[\"month\"]==month].drop_duplicates(subset=['name'])\n",
    "    current_customers = set(current_df['name'])\n",
    "\n",
    "    # DataFrame referring to customers who purchased during the past month\n",
    "    past_df = df[df[\"month\"]==past_month].drop_duplicates(subset=['name'])\n",
    "    past_customers = set(past_df['name'])\n",
    "\n",
    "    # Compares the set of customers who purchased during the current month and past month\n",
    "    return len(current_customers & past_customers)\n",
    "\n",
    "\n",
    "# Creates a dictionary for the customers who are repeaters per month\n",
    "repeater_dict = {i:repeater(i) for i in months_list}\n",
    "repeater_series = pd.Series(repeater_dict) \n",
    "repeater_series"
   ]
  },
  {
   "cell_type": "markdown",
   "id": "c412de15-14f4-4bf6-bf4b-683b97f500e3",
   "metadata": {},
   "source": [
    "### B. Inactive: Number of customers who have purchase history but do not have a purchase for the current month"
   ]
  },
  {
   "cell_type": "code",
   "execution_count": 35,
   "id": "70cc95c1-44a5-4ec8-a854-44ba8982bf75",
   "metadata": {},
   "outputs": [
    {
     "data": {
      "text/plain": [
       "January        0\n",
       "February    1416\n",
       "March       1747\n",
       "April       1909\n",
       "May         1917\n",
       "June        1835\n",
       "dtype: int64"
      ]
     },
     "execution_count": 35,
     "metadata": {},
     "output_type": "execute_result"
    }
   ],
   "source": [
    "months_list = ['January','February','March','April','May','June']\n",
    "\n",
    "# Gets the index based on the months_list \n",
    "def inactive(month):\n",
    "    month_index = months_list.index(month)\n",
    "    past_months = months_list[:month_index]\n",
    "\n",
    "    # DataFrame referring to customers who purchased during the current month\n",
    "    current = df[df[\"month\"]==month].drop_duplicates(subset=['name'])\n",
    "    current_customers = list(current['name'])\n",
    "\n",
    "    # DataFrame referring to customers who purchased during the past month\n",
    "    past = df[df[\"month\"].isin(past_months)].drop_duplicates(subset=['name'])\n",
    "    past_customers = list(past['name'])\n",
    "\n",
    "    for name in current_customers:\n",
    "        if name in past_customers:\n",
    "            past_customers.remove(name)\n",
    "        else:\n",
    "            continue\n",
    "\n",
    "    return len(past_customers)\n",
    "\n",
    "inactive_dict = {i:inactive(i) for i in months_list}\n",
    "inactive_series = pd.Series(inactive_dict) \n",
    "inactive_series"
   ]
  },
  {
   "cell_type": "markdown",
   "id": "bc8f0f05-4bed-4488-89d1-4f4edba7c63a",
   "metadata": {},
   "source": [
    "### C. Engaged Customers: Customers who consistently purchased every single month  "
   ]
  },
  {
   "cell_type": "code",
   "execution_count": 36,
   "id": "6b58cf7e-bf56-4b87-af50-191e0421f767",
   "metadata": {},
   "outputs": [
    {
     "data": {
      "text/plain": [
       "January     6588\n",
       "February    5172\n",
       "March       4126\n",
       "April       3289\n",
       "May         2667\n",
       "June        2190\n",
       "dtype: int64"
      ]
     },
     "execution_count": 36,
     "metadata": {},
     "output_type": "execute_result"
    }
   ],
   "source": [
    "months_list = ['January','February','March','April','May','June']\n",
    "\n",
    "def engaged(month):\n",
    "    \n",
    "    # Creates a set pertaining to all customers who purchased per month\n",
    "    def customers_per_month(month):\n",
    "        engaged = sorted(set(df[df[\"month\"]==month].drop_duplicates(subset=['name'])['name']))\n",
    "        return engaged\n",
    "\n",
    "      # Creates a set pertaining to all customers who purchased per month\n",
    "    current_dict = {i:customers_per_month(i) for i in list(months.values())}\n",
    "\n",
    "    i = 0\n",
    "    mon1=months_list[0]\n",
    "    engaged = set(current_dict[mon1])\n",
    "\n",
    "    # Creates & gets the list of current customers\n",
    "    while i <= months_list.index(month):\n",
    "        current_month = months_list[i]\n",
    "        current_list = set(current_dict[current_month])\n",
    "        \n",
    "        # Compares the set of engaged and current customers\n",
    "        engaged = engaged & current_list\n",
    "        i = i+1\n",
    "        if i > months_list.index(month):\n",
    "            \n",
    "            # Shows the total at the end of a certain month \n",
    "            return len(engaged)\n",
    "\n",
    "engaged_dict={i:engaged(i) for i in months_list}\n",
    "engaged_series=pd.Series(engaged_dict)\n",
    "engaged_series"
   ]
  },
  {
   "cell_type": "markdown",
   "id": "5def3c30-9fdc-4a8e-bc91-61b5e81e2830",
   "metadata": {},
   "source": [
    "### DataFrame III: Repeater, Inactive, Engaged"
   ]
  },
  {
   "cell_type": "code",
   "execution_count": 37,
   "id": "52239a3a-c488-455d-a7e8-0bbcbf83d318",
   "metadata": {},
   "outputs": [
    {
     "data": {
      "text/html": [
       "<div>\n",
       "<style scoped>\n",
       "    .dataframe tbody tr th:only-of-type {\n",
       "        vertical-align: middle;\n",
       "    }\n",
       "\n",
       "    .dataframe tbody tr th {\n",
       "        vertical-align: top;\n",
       "    }\n",
       "\n",
       "    .dataframe thead th {\n",
       "        text-align: right;\n",
       "    }\n",
       "</style>\n",
       "<table border=\"1\" class=\"dataframe\">\n",
       "  <thead>\n",
       "    <tr style=\"text-align: right;\">\n",
       "      <th></th>\n",
       "      <th>January</th>\n",
       "      <th>February</th>\n",
       "      <th>March</th>\n",
       "      <th>April</th>\n",
       "      <th>May</th>\n",
       "      <th>June</th>\n",
       "    </tr>\n",
       "  </thead>\n",
       "  <tbody>\n",
       "    <tr>\n",
       "      <th>Repeaters</th>\n",
       "      <td>0</td>\n",
       "      <td>5172</td>\n",
       "      <td>5216</td>\n",
       "      <td>5154</td>\n",
       "      <td>5110</td>\n",
       "      <td>5193</td>\n",
       "    </tr>\n",
       "    <tr>\n",
       "      <th>Inactive</th>\n",
       "      <td>0</td>\n",
       "      <td>1416</td>\n",
       "      <td>1747</td>\n",
       "      <td>1909</td>\n",
       "      <td>1917</td>\n",
       "      <td>1835</td>\n",
       "    </tr>\n",
       "    <tr>\n",
       "      <th>Engaged</th>\n",
       "      <td>6588</td>\n",
       "      <td>5172</td>\n",
       "      <td>4126</td>\n",
       "      <td>3289</td>\n",
       "      <td>2667</td>\n",
       "      <td>2190</td>\n",
       "    </tr>\n",
       "  </tbody>\n",
       "</table>\n",
       "</div>"
      ],
      "text/plain": [
       "           January  February  March  April   May  June\n",
       "Repeaters        0      5172   5216   5154  5110  5193\n",
       "Inactive         0      1416   1747   1909  1917  1835\n",
       "Engaged       6588      5172   4126   3289  2667  2190"
      ]
     },
     "execution_count": 37,
     "metadata": {},
     "output_type": "execute_result"
    }
   ],
   "source": [
    "rie_df = pd.DataFrame({'Repeaters':repeater_series,'Inactive':inactive_series,'Engaged':engaged_series}).transpose()\n",
    "rie_df"
   ]
  },
  {
   "cell_type": "code",
   "execution_count": 38,
   "id": "07646aaf-c02e-47ea-b81e-5c021cacad1d",
   "metadata": {},
   "outputs": [
    {
     "data": {
      "image/png": "[encoded data removed]",
      "text/plain": [
       "<Figure size 1080x720 with 1 Axes>"
      ]
     },
     "metadata": {
      "needs_background": "light"
     },
     "output_type": "display_data"
    }
   ],
   "source": [
    "new_df = rie_df.transpose()\n",
    "new_df.index.name = 'Month'\n",
    "new_df.reset_index(level=None, drop=False, inplace=True, col_level=0, col_fill='')\n",
    "\n",
    "new_df=new_df[['Month','Repeaters','Inactive','Engaged']]\n",
    "\n",
    "new_df.plot(x='Month',\n",
    "        kind='bar',\n",
    "        stacked=False,\n",
    "        title='Repeater, Inactive, Engaged',\n",
    "           figsize=(15,10),\n",
    "           color = ['#F18387','#FFCEBB', '#9DDFDA']);"
   ]
  }
 ],
 "metadata": {
  "kernelspec": {
   "display_name": "Python 3 (ipykernel)",
   "language": "python",
   "name": "python3"
  },
  "language_info": {
   "codemirror_mode": {
    "name": "ipython",
    "version": 3
   },
   "file_extension": ".py",
   "mimetype": "text/x-python",
   "name": "python",
   "nbconvert_exporter": "python",
   "pygments_lexer": "ipython3",
   "version": "3.9.12"
  }
 },
 "nbformat": 4,
 "nbformat_minor": 5
}
